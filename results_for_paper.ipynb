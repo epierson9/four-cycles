{
 "cells": [
  {
   "cell_type": "code",
   "execution_count": null,
   "metadata": {},
   "outputs": [],
   "source": [
    "%matplotlib inline\n",
    "%load_ext autoreload\n",
    "%autoreload 2\n",
    "from constants_and_util import *\n",
    "import matplotlib.pyplot as plt\n",
    "import pandas as pd\n",
    "import random\n",
    "import numpy as np\n",
    "from copy import deepcopy\n",
    "from scipy.signal import argrelextrema\n",
    "import statsmodels.api as sm\n",
    "from scipy.special import expit\n",
    "from scipy.stats import scoreatpercentile\n",
    "import pickle\n",
    "import os\n",
    "from collections import Counter\n",
    "import dataprocessor\n",
    "import compare_to_seasonal_cycles\n",
    "assert not USE_SIMULATED_DATA\n",
    "import sys\n",
    "import cPickle\n",
    "assert sys.version[0] == '2'\n",
    "import seaborn as sns\n",
    "import generate_results_for_paper\n",
    "\n",
    "\n"
   ]
  },
  {
   "cell_type": "code",
   "execution_count": null,
   "metadata": {},
   "outputs": [],
   "source": [
    "generate_results_for_paper.make_figure_to_illustrate_data_for_one_user()"
   ]
  },
  {
   "cell_type": "code",
   "execution_count": null,
   "metadata": {},
   "outputs": [],
   "source": [
    "generate_results_for_paper.make_maps_of_countries_with_clue_data()"
   ]
  },
  {
   "cell_type": "code",
   "execution_count": null,
   "metadata": {},
   "outputs": [],
   "source": [
    "results = compare_to_seasonal_cycles.load_all_results()"
   ]
  },
  {
   "cell_type": "code",
   "execution_count": null,
   "metadata": {},
   "outputs": [],
   "source": [
    "# Sentence about relative change in happy/sad curve. \n",
    "\n",
    "happy_sad_curve = compare_to_seasonal_cycles.convert_regression_format_to_simple_mean_format(\n",
    "    results['emotion*happy_versus_emotion*sad']['by_very_active_northern_hemisphere_loggers'][True]['linear_regression'],\n",
    "    'linear_regression')\n",
    "cycle_amplitude = compare_to_seasonal_cycles.get_cycle_amplitude(happy_sad_curve, \n",
    "                                               cycle='date_relative_to_period', \n",
    "                                               metric_to_use='max_minus_min', \n",
    "                                               hourly_period_to_exclude=None)\n",
    "overall_sad_frac = 1 - results['emotion*happy_versus_emotion*sad']['by_very_active_northern_hemisphere_loggers'][True]['overall_positive_frac']\n",
    "\n",
    "print(\"Happy/sad frac: %2.3f; period cycle amplitude: %2.3f; relative change: %2.3f\" % (overall_sad_frac, \n",
    "                                                                                        cycle_amplitude, \n",
    "                                                                                        cycle_amplitude/overall_sad_frac))"
   ]
  },
  {
   "cell_type": "code",
   "execution_count": null,
   "metadata": {
    "scrolled": false
   },
   "outputs": [],
   "source": [
    "generate_results_for_paper.make_cycle_amplitudes_bar_plot_for_figure_1(results)"
   ]
  },
  {
   "cell_type": "code",
   "execution_count": null,
   "metadata": {},
   "outputs": [],
   "source": [
    "generate_results_for_paper.make_happiness_by_date_date_trump_effects_plot_for_figure_1(results)"
   ]
  },
  {
   "cell_type": "code",
   "execution_count": null,
   "metadata": {},
   "outputs": [],
   "source": [
    "generate_results_for_paper.make_happiness_by_date_date_trump_effects_plot_for_figure_1(results, \n",
    "                                                                                       plot_red_line=False)"
   ]
  },
  {
   "cell_type": "code",
   "execution_count": null,
   "metadata": {
    "scrolled": false
   },
   "outputs": [],
   "source": [
    "compare_to_seasonal_cycles.make_four_cycle_plots(results,\n",
    "                                 ['by_very_active_northern_hemisphere_loggers'], \n",
    "                                 ['emotion*happy_versus_emotion*sad'], \n",
    "                                ylimits_by_pair={'emotion*happy_versus_emotion*sad':4}, \n",
    "                                figname='figures_for_paper/four_cycle_plot.png', \n",
    "                                suptitle=False, \n",
    "                                include_amplitudes_in_title=False, \n",
    "                                different_colors_for_each_cycle=True)\n",
    "    "
   ]
  },
  {
   "cell_type": "markdown",
   "metadata": {},
   "source": [
    "# Figure 2\n",
    "\n",
    "this has already been filtered for countries with MIN_USERS_FOR_SUBGROUP and MIN_OBS_FOR_SUBGROUP\n"
   ]
  },
  {
   "cell_type": "code",
   "execution_count": null,
   "metadata": {
    "scrolled": false
   },
   "outputs": [],
   "source": [
    "generate_results_for_paper.make_maps_for_figure_2(results)"
   ]
  },
  {
   "cell_type": "markdown",
   "metadata": {},
   "source": [
    "# Figure 3: age effects. \n",
    "\n",
    "this has already been filtered for ages with MIN_USERS_FOR_SUBGROUP and MIN_OBS_FOR_SUBGROUP"
   ]
  },
  {
   "cell_type": "code",
   "execution_count": null,
   "metadata": {
    "scrolled": false
   },
   "outputs": [],
   "source": [
    "opposite_pairs_to_plot = ['emotion*happy_versus_emotion*sad', \n",
    "                          'continuous_features*heart_rate_versus_continuous_features*null', \n",
    "                          'continuous_features*bbt_versus_continuous_features*null', \n",
    "                         'continuous_features*weight_versus_continuous_features*null']\n",
    "generate_results_for_paper.make_age_trend_plot(results,\n",
    "                                               opposite_pairs_to_plot=opposite_pairs_to_plot,\n",
    "                                               specifications_to_plot=['age'],\n",
    "                                               figname='figures_for_paper/main_fig4.pdf',\n",
    "                                               plot_curves_for_two_age_groups=True,\n",
    "                                               n_subplot_rows=2,\n",
    "                                               n_subplot_columns=4,\n",
    "                                               figsize=[14, 8], \n",
    "                                               subplot_kwargs={'wspace':.3, \n",
    "                                                               'hspace':.65, \n",
    "                                                               'right':.95, \n",
    "                                                               'left':.15, \n",
    "                                                               'top':.92, \n",
    "                                                               'bottom':.1}, \n",
    "                                               plot_yerr=True)\n",
    "    "
   ]
  },
  {
   "cell_type": "code",
   "execution_count": null,
   "metadata": {
    "scrolled": false
   },
   "outputs": [],
   "source": [
    "generate_results_for_paper.make_age_trend_plot(results,\n",
    "                                               opposite_pairs_to_plot=ORDERED_SYMPTOM_NAMES,\n",
    "                                               specifications_to_plot=['age', \n",
    "                                                                      'country+age', \n",
    "                                                                      'country+age+behavior', \n",
    "                                                                      'country+age+behavior+app usage'],\n",
    "                                               figname='figures_for_paper/age_trend_robustness.png',\n",
    "                                               plot_curves_for_two_age_groups=False,\n",
    "                                               n_subplot_rows=5,\n",
    "                                               n_subplot_columns=3, \n",
    "                                               figsize=[12, 15],\n",
    "                                               subplot_kwargs={'wspace':.7, \n",
    "                                                               'hspace':.95, \n",
    "                                                               'right':.72, \n",
    "                                                               'left':.12, \n",
    "                                                               'top':.95, \n",
    "                                                               'bottom':.1}, \n",
    "                                               age_ticks_only_at_bottom=False, \n",
    "                                               label_kwargs={'fontsize':11}, \n",
    "                                              linewidth=1, \n",
    "                                               plot_legend=True, \n",
    "                                              include_ylabel=False)\n",
    "\n",
    "                                               "
   ]
  }
 ],
 "metadata": {
  "kernelspec": {
   "display_name": "Python 3",
   "language": "python",
   "name": "python3"
  },
  "language_info": {
   "codemirror_mode": {
    "name": "ipython",
    "version": 3
   },
   "file_extension": ".py",
   "mimetype": "text/x-python",
   "name": "python",
   "nbconvert_exporter": "python",
   "pygments_lexer": "ipython3",
   "version": "3.8.5"
  }
 },
 "nbformat": 4,
 "nbformat_minor": 2
}
