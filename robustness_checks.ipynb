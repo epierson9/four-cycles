{
 "cells": [
  {
   "cell_type": "code",
   "execution_count": null,
   "metadata": {},
   "outputs": [],
   "source": [
    "%matplotlib inline\n",
    "%load_ext autoreload\n",
    "%autoreload 2\n",
    "from constants_and_util import *\n",
    "import matplotlib.pyplot as plt\n",
    "import pandas as pd\n",
    "import random\n",
    "import numpy as np\n",
    "from copy import deepcopy\n",
    "from scipy.signal import argrelextrema\n",
    "import statsmodels.api as sm\n",
    "from scipy.special import expit\n",
    "from scipy.stats import scoreatpercentile\n",
    "import pickle\n",
    "import os\n",
    "from collections import Counter\n",
    "import dataprocessor\n",
    "import compare_to_seasonal_cycles\n",
    "assert not USE_SIMULATED_DATA\n",
    "import sys\n",
    "from matplotlib.colors import LinearSegmentedColormap\n",
    "import cPickle\n",
    "assert sys.version[0] == '2'\n",
    "import generate_results_for_paper"
   ]
  },
  {
   "cell_type": "code",
   "execution_count": null,
   "metadata": {
    "scrolled": false
   },
   "outputs": [],
   "source": [
    "results = compare_to_seasonal_cycles.load_all_results()"
   ]
  },
  {
   "cell_type": "code",
   "execution_count": null,
   "metadata": {
    "scrolled": false
   },
   "outputs": [],
   "source": [
    "generate_results_for_paper.make_period_regression_specifications_robustness_check(results)"
   ]
  },
  {
   "cell_type": "markdown",
   "metadata": {},
   "source": [
    "# Make four-cycle plots for all symptoms."
   ]
  },
  {
   "cell_type": "code",
   "execution_count": null,
   "metadata": {
    "scrolled": false
   },
   "outputs": [],
   "source": [
    "for opposite_pair in results.keys():\n",
    "    compare_to_seasonal_cycles.make_four_cycle_plots(results,\n",
    "                                         ['by_very_active_northern_hemisphere_loggers'], \n",
    "                                         [opposite_pair], \n",
    "                                        suptitle=False,\n",
    "                                        different_colors_for_each_cycle=True, \n",
    "                                        figname='figures_for_paper/four_cycle_plot_%s.png' % opposite_pair)"
   ]
  },
  {
   "cell_type": "markdown",
   "metadata": {},
   "source": [
    "# Alternate four-cycle plot: clock plot. \n",
    "\n",
    "These take a while to make. "
   ]
  },
  {
   "cell_type": "code",
   "execution_count": null,
   "metadata": {},
   "outputs": [],
   "source": [
    "# if you want the fifteen cycle plot. \n",
    "generate_results_for_paper.make_clock_plot(results, just_plot_single_cycle=False)"
   ]
  },
  {
   "cell_type": "code",
   "execution_count": null,
   "metadata": {},
   "outputs": [],
   "source": [
    "# if you want to make a movie. \n",
    "generate_results_for_paper.make_clock_plot(results, just_plot_single_cycle=True)"
   ]
  },
  {
   "cell_type": "markdown",
   "metadata": {},
   "source": [
    "# Symptom tables"
   ]
  },
  {
   "cell_type": "code",
   "execution_count": null,
   "metadata": {},
   "outputs": [],
   "source": [
    "generate_results_for_paper.make_table_of_all_symptoms_not_just_those_in_analysis()"
   ]
  },
  {
   "cell_type": "markdown",
   "metadata": {},
   "source": [
    "# Table of basic user statistics. "
   ]
  },
  {
   "cell_type": "code",
   "execution_count": null,
   "metadata": {},
   "outputs": [],
   "source": [
    "\n",
    "generate_results_for_paper.make_table_of_user_statistics(n_chunks_to_use=64)"
   ]
  },
  {
   "cell_type": "markdown",
   "metadata": {},
   "source": [
    "# Table of symptoms we actually use. Columns are user counts, symptom count, mean value of symptom. \n"
   ]
  },
  {
   "cell_type": "code",
   "execution_count": null,
   "metadata": {},
   "outputs": [],
   "source": [
    "generate_results_for_paper.make_user_count_table(results)"
   ]
  },
  {
   "cell_type": "markdown",
   "metadata": {},
   "source": [
    "# Period start for each symptom? "
   ]
  },
  {
   "cell_type": "code",
   "execution_count": null,
   "metadata": {},
   "outputs": [],
   "source": [
    "generate_results_for_paper.make_near_period_start_table(results)"
   ]
  },
  {
   "cell_type": "markdown",
   "metadata": {},
   "source": [
    "# Robustness checks for figure 1. "
   ]
  },
  {
   "cell_type": "markdown",
   "metadata": {},
   "source": [
    "### Show that amplitudes of cycles don’t change too much for different substratifications"
   ]
  },
  {
   "cell_type": "markdown",
   "metadata": {},
   "source": [
    "Still need to work on this but preliminary attempt seems promising. \n",
    "I think we can probably argue that the basic point of Figure 1 is robust to how many symptoms\n",
    "are logged, etc.\n"
   ]
  },
  {
   "cell_type": "code",
   "execution_count": null,
   "metadata": {
    "scrolled": false
   },
   "outputs": [],
   "source": [
    "categories_to_substratify_by = ['by_n_symptom_categories_used', \n",
    "                              'by_total_symptoms_logged', \n",
    "                  'by_categorical_age',\n",
    "                  'by_country', \n",
    "                  'by_categorical_latitude', \n",
    "                  'by_any_filtering']\n",
    "\n",
    "# identify top 5 countries for robustness check. We only use large countries \n",
    "# because otherwise the variance in cycles explodes -> amplitude explodes. \n",
    "\n",
    "total_obs_for_countries = {}\n",
    "for k in results:\n",
    "    for country in results[k]['by_country']:\n",
    "        if country not in total_obs_for_countries:\n",
    "            total_obs_for_countries[country] = 0\n",
    "        total_obs_for_countries[country] += results[k]['by_country'][country]['overall_n_obs']\n",
    "top_n_countries = sorted(total_obs_for_countries.keys(), key=lambda x:total_obs_for_countries[x])[::-1][:5]\n",
    "for country in top_n_countries:\n",
    "    print country, total_obs_for_countries[country]\n",
    "        \n",
    "generate_results_for_paper.make_substratification_robustness_plot(results, \n",
    "                                                            categories_to_substratify_by, \n",
    "                                                            top_n_countries)\n"
   ]
  },
  {
   "cell_type": "code",
   "execution_count": null,
   "metadata": {
    "scrolled": false
   },
   "outputs": [],
   "source": [
    "for opposite_pair in results.keys():\n",
    "    print(\"\\n\\n\\n***********%s\" % opposite_pair)\n",
    "    for substratification in categories_to_substratify_by:\n",
    "        levels = results[opposite_pair][substratification].keys()\n",
    "        if substratification == 'by_country':\n",
    "            levels_to_skip = [a for a in levels if a not in top_n_countries]\n",
    "        else:\n",
    "            levels_to_skip = None\n",
    "        \n",
    "    \n",
    "        compare_to_seasonal_cycles.make_four_cycle_plots(results,\n",
    "                                         [substratification], \n",
    "                                         [opposite_pair], \n",
    "                                        substratification_levels_to_skip=levels_to_skip, \n",
    "                                                         suptitle=False)"
   ]
  },
  {
   "cell_type": "markdown",
   "metadata": {},
   "source": [
    "### Show that amplitudes of cycles don’t change too much for different regression specifications. "
   ]
  },
  {
   "cell_type": "markdown",
   "metadata": {},
   "source": [
    "### Different specifications for seasonal cycle"
   ]
  },
  {
   "cell_type": "code",
   "execution_count": null,
   "metadata": {
    "scrolled": false
   },
   "outputs": [],
   "source": [
    "generate_results_for_paper.make_seasonal_regression_specifications_robustness_check(results)\n",
    "                                                                                                    "
   ]
  },
  {
   "cell_type": "markdown",
   "metadata": {},
   "source": [
    "### Different regression specifications"
   ]
  },
  {
   "cell_type": "code",
   "execution_count": null,
   "metadata": {
    "scrolled": false
   },
   "outputs": [],
   "source": [
    "generate_results_for_paper.make_regression_specifications_robustness_plot(results)\n"
   ]
  },
  {
   "cell_type": "markdown",
   "metadata": {},
   "source": [
    "### Show that mood symptoms still show qualitatively similar patterns when we don't use the opposite trick. "
   ]
  },
  {
   "cell_type": "code",
   "execution_count": null,
   "metadata": {
    "scrolled": false
   },
   "outputs": [],
   "source": [
    "generate_results_for_paper.make_mood_symptoms_robustness_plot_without_opposite_symptoms()"
   ]
  },
  {
   "cell_type": "markdown",
   "metadata": {},
   "source": [
    "# Robustness checks for figure 2: country-specific individual-effects. "
   ]
  },
  {
   "cell_type": "code",
   "execution_count": null,
   "metadata": {},
   "outputs": [],
   "source": [
    "# country specific effects\n",
    "generate_results_for_paper.make_country_robustness_plot(results)\n",
    "                "
   ]
  },
  {
   "cell_type": "markdown",
   "metadata": {},
   "source": [
    "# Data sanity checks. "
   ]
  },
  {
   "cell_type": "markdown",
   "metadata": {},
   "source": [
    "Period lengths look sane. Not just filtering for very active loggers here. \n",
    "This also shows that there isn't huge hetereogeneity in period length distribution which could be messing things up. "
   ]
  },
  {
   "cell_type": "code",
   "execution_count": null,
   "metadata": {
    "scrolled": false
   },
   "outputs": [],
   "source": [
    "generate_results_for_paper.make_period_lengths_plot(n_chunks_to_use=64)"
   ]
  },
  {
   "cell_type": "markdown",
   "metadata": {},
   "source": [
    "### Recapitulates known country-specific happiness variation. "
   ]
  },
  {
   "cell_type": "code",
   "execution_count": null,
   "metadata": {},
   "outputs": [],
   "source": [
    "from constants_and_util import *\n",
    "generate_results_for_paper.recapitulate_country_specific_happiness_trends(results, \n",
    "                                                                          min_obs=MIN_OBS_FOR_SUBGROUP, \n",
    "                                                                          min_users=MIN_USERS_FOR_SUBGROUP)"
   ]
  },
  {
   "cell_type": "markdown",
   "metadata": {},
   "source": [
    "### Show we can recapitulate worldwide trends for women + obesity"
   ]
  },
  {
   "cell_type": "code",
   "execution_count": null,
   "metadata": {},
   "outputs": [],
   "source": [
    "generate_results_for_paper.recapitulate_country_specific_weight_trends(results,\n",
    "                                                                       min_obs=MIN_OBS_FOR_SUBGROUP, \n",
    "                                                                     min_users=MIN_USERS_FOR_SUBGROUP)\n",
    "\n",
    "                 \n"
   ]
  },
  {
   "cell_type": "markdown",
   "metadata": {},
   "source": [
    "### Recapitulates known weekly, seasonal, and menstrual cycles in symptoms we did not examine in the main analysis. "
   ]
  },
  {
   "cell_type": "code",
   "execution_count": null,
   "metadata": {
    "scrolled": true
   },
   "outputs": [],
   "source": [
    "generate_results_for_paper.make_previously_known_cycles_plot()"
   ]
  }
 ],
 "metadata": {
  "kernelspec": {
   "display_name": "Python 3",
   "language": "python",
   "name": "python3"
  },
  "language_info": {
   "codemirror_mode": {
    "name": "ipython",
    "version": 3
   },
   "file_extension": ".py",
   "mimetype": "text/x-python",
   "name": "python",
   "nbconvert_exporter": "python",
   "pygments_lexer": "ipython3",
   "version": "3.8.5"
  }
 },
 "nbformat": 4,
 "nbformat_minor": 2
}
